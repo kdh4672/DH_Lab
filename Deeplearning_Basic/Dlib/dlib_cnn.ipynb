{
 "cells": [
  {
   "cell_type": "code",
   "execution_count": 1,
   "metadata": {},
   "outputs": [
    {
     "name": "stdout",
     "output_type": "stream",
     "text": [
      "/home/daehyeon/detectron2/test_image/1.jpg\n",
      "I found 3 faces in the file /home/daehyeon/detectron2/test_image/1.jpg\n"
     ]
    }
   ],
   "source": [
    "import cv2\n",
    "import dlib\n",
    "import time\n",
    "import numpy as np\n",
    "\n",
    "predictor = dlib.shape_predictor('./shape_predictor_68_face_landmarks.dat')\n",
    "weight = './mmod_human_face_detector.dat'\n",
    "\n",
    "face_detector = dlib.cnn_face_detection_model_v1(weight)\n",
    "\n",
    "\n",
    "# image = cv2.imread('/home/daehyeon/detectron2/test_image/1.jpg')\n",
    "\n",
    "ALL = list(range(0, 68))\n",
    "index = ALL\n",
    "count = 1\n",
    "while True:\n",
    "\n",
    "    file_name = '/home/daehyeon/detectron2/test_image/{}.jpg'.format(count)\n",
    "    print(file_name)\n",
    "    # Create a HOG face detector using the built-in dlib class\n",
    "\n",
    "\n",
    "\n",
    "\n",
    "    # Load the image into an array\n",
    "    try :\n",
    "        image = cv2.imread(file_name)\n",
    "    except:\n",
    "        print(\"no file like that name\")\n",
    "        break\n",
    "    start = time.time()\n",
    "    faces_cnn = face_detector(image, 1)\n",
    "\n",
    "\n",
    "    count = count +1\n",
    "\n",
    "\n",
    "    for face in faces_cnn:\n",
    "        x = face.rect.left()\n",
    "        y = face.rect.top()\n",
    "        w = face.rect.right() - x\n",
    "        h = face.rect.bottom() - y\n",
    "        cv2.rectangle(image, (x,y), (x+w,y+h), (0,0,255), 2)\n",
    "\n",
    "\n",
    "\n",
    "        shape = predictor(image, face.rect)  # 얼굴에서 68개 점 찾기\n",
    "\n",
    "        list_points = []\n",
    "        \n",
    "        for p in shape.parts():\n",
    "            list_points.append([p.x, p.y])\n",
    "\n",
    "        list_points = np.array(list_points)\n",
    "\n",
    "        for i, pt in enumerate(list_points[index]):\n",
    "            pt_pos = (pt[0], pt[1])\n",
    "            cv2.circle(image, pt_pos, 2, (0, 255, 0), -1)\n",
    "    print(\"I found {} faces in the file {}\".format(len(faces_cnn), file_name))\n",
    "    img_height, img_width = image.shape[:2]\n",
    "    cv2.putText(image, \"CNN\", (img_width-50,40), cv2.FONT_HERSHEY_SIMPLEX, 0.5,\n",
    "                    (0,0,255), 2)\n",
    "    if count ==2 :\n",
    "        break\n",
    "    cv2.imshow(\"face detection with dlib\", image)\n",
    "    end = time.time()\n",
    "    print('걸린시간:', format(end - start, '.2f'))\n",
    "    cv2.waitKey()\n",
    "    cv2.destroyAllWindows()\n"
   ]
  },
  {
   "cell_type": "code",
   "execution_count": 7,
   "metadata": {},
   "outputs": [
    {
     "name": "stdout",
     "output_type": "stream",
     "text": [
      "[(701, 229) (799, 327)]\n",
      "['__add__', '__class__', '__delattr__', '__dir__', '__doc__', '__eq__', '__format__', '__ge__', '__getattribute__', '__getstate__', '__gt__', '__hash__', '__iadd__', '__init__', '__init_subclass__', '__le__', '__lt__', '__module__', '__ne__', '__new__', '__reduce__', '__reduce_ex__', '__repr__', '__setattr__', '__setstate__', '__sizeof__', '__str__', '__subclasshook__', 'area', 'bl_corner', 'bottom', 'br_corner', 'center', 'contains', 'dcenter', 'height', 'intersect', 'is_empty', 'left', 'right', 'tl_corner', 'top', 'tr_corner', 'width']\n",
      "points[(705, 267), (704, 280), (703, 293), (704, 306), (707, 318), (714, 328), (722, 337), (732, 345), (744, 347), (758, 347), (770, 342), (781, 335), (790, 327), (796, 316), (800, 305), (803, 293), (807, 281), (716, 256), (722, 249), (732, 246), (742, 248), (751, 252), (764, 254), (775, 251), (786, 251), (796, 256), (801, 266), (757, 266), (755, 275), (754, 283), (752, 292), (741, 298), (746, 300), (751, 302), (756, 301), (762, 300), (724, 266), (730, 263), (736, 264), (741, 269), (736, 269), (729, 268), (770, 272), (776, 268), (782, 269), (787, 273), (782, 274), (776, 274), (730, 313), (738, 310), (745, 308), (749, 310), (755, 309), (761, 313), (767, 317), (760, 322), (754, 323), (748, 323), (743, 322), (736, 319), (733, 313), (744, 314), (749, 315), (755, 315), (764, 317), (755, 316), (749, 316), (744, 314)]\n"
     ]
    }
   ],
   "source": [
    "print(face.rect)\n",
    "print(dir(face.rect))\n",
    "print(shape)"
   ]
  },
  {
   "cell_type": "code",
   "execution_count": 25,
   "metadata": {},
   "outputs": [
    {
     "name": "stdout",
     "output_type": "stream",
     "text": [
      "['__class__', '__delattr__', '__dir__', '__doc__', '__eq__', '__format__', '__ge__', '__getattribute__', '__getstate__', '__gt__', '__hash__', '__init__', '__init_subclass__', '__le__', '__lt__', '__module__', '__ne__', '__new__', '__reduce__', '__reduce_ex__', '__repr__', '__setattr__', '__setstate__', '__sizeof__', '__str__', '__subclasshook__', 'num_parts', 'part', 'parts', 'rect']\n"
     ]
    }
   ],
   "source": [
    "print(dir(shape))"
   ]
  },
  {
   "cell_type": "code",
   "execution_count": 26,
   "metadata": {},
   "outputs": [
    {
     "name": "stdout",
     "output_type": "stream",
     "text": [
      "68\n"
     ]
    }
   ],
   "source": [
    "print(shape.num_parts)"
   ]
  },
  {
   "cell_type": "code",
   "execution_count": 27,
   "metadata": {},
   "outputs": [
    {
     "data": {
      "text/plain": [
       "False"
      ]
     },
     "execution_count": 27,
     "metadata": {},
     "output_type": "execute_result"
    }
   ],
   "source": [
    "dlib.DLIB_USE_CUDA"
   ]
  },
  {
   "cell_type": "code",
   "execution_count": 28,
   "metadata": {},
   "outputs": [],
   "source": [
    "import dlib.cuda as cuda"
   ]
  },
  {
   "cell_type": "code",
   "execution_count": 37,
   "metadata": {},
   "outputs": [],
   "source": [
    "dlib.DLIB_USE_CUDA = True"
   ]
  },
  {
   "cell_type": "code",
   "execution_count": 38,
   "metadata": {},
   "outputs": [
    {
     "data": {
      "text/plain": [
       "True"
      ]
     },
     "execution_count": 38,
     "metadata": {},
     "output_type": "execute_result"
    }
   ],
   "source": [
    "dlib.DLIB_USE_CUDA"
   ]
  },
  {
   "cell_type": "code",
   "execution_count": null,
   "metadata": {},
   "outputs": [],
   "source": []
  }
 ],
 "metadata": {
  "kernelspec": {
   "display_name": "Python 3",
   "language": "python",
   "name": "python3"
  },
  "language_info": {
   "codemirror_mode": {
    "name": "ipython",
    "version": 3
   },
   "file_extension": ".py",
   "mimetype": "text/x-python",
   "name": "python",
   "nbconvert_exporter": "python",
   "pygments_lexer": "ipython3",
   "version": "3.8.2"
  }
 },
 "nbformat": 4,
 "nbformat_minor": 4
}
