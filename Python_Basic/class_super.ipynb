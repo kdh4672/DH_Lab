{
 "cells": [
  {
   "cell_type": "markdown",
   "metadata": {},
   "source": [
    "# Class 상속에서 Super 함수의 역할"
   ]
  },
  {
   "cell_type": "code",
   "execution_count": 7,
   "metadata": {},
   "outputs": [
    {
     "name": "stdout",
     "output_type": "stream",
     "text": [
      "This is Parent's p1\n",
      "This is Parent's p2\n",
      "This is Child's c1\n",
      "This is Child's c2\n",
      "This is Child's c3\n"
     ]
    }
   ],
   "source": [
    "class Parent:\n",
    "    def __init__(self,p1,p2):\n",
    "        ''' super()를 사용하지 않으면 상속됐을 때 이것으로 overriding됨'''\n",
    "        self.p1 = p1\n",
    "        self.p2 = p2\n",
    "        \n",
    "class Child(Parent): ##Parent 클래스 상속\n",
    "    def __init__(self, c1, **kwargs): ## 부모 클래스의 init이 overriding(덮어쓰기)됨.\n",
    "        super(Child, self).__init__(**kwargs) ## 부모클래스 변수 가져오기\n",
    "        self.c1 = c1\n",
    "        self.c2 = \"This is Child's c2\"\n",
    "        self.c3 = \"This is Child's c3\"\n",
    "        \n",
    "child = Child(p1= \"This is Parent's p1\",\n",
    "             p2= \"This is Parent's p2\",\n",
    "             c1= \"This is Child's c1\")\n",
    "\n",
    "print(child.p1)\n",
    "print(child.p2)\n",
    "print(child.c1)\n",
    "print(child.c2)\n",
    "print(child.c3)\n"
   ]
  },
  {
   "cell_type": "markdown",
   "metadata": {},
   "source": [
    "#### Child 클래스는 Parent 클래스를 상속 받는다. 이는 Child 클래스내에 Parent 클래스의 메소드를 모두 가져오기 하는 것이라고 생각하면 된다"
   ]
  },
  {
   "cell_type": "markdown",
   "metadata": {},
   "source": [
    "#### Child 클래스의 __init__() 메소드내에서 super().__init__()을 입력하면 Parent 클래스의 __init__()에 있는 클래스 변수들을 가지고 올 수 있다."
   ]
  },
  {
   "cell_type": "code",
   "execution_count": 12,
   "metadata": {},
   "outputs": [
    {
     "name": "stdout",
     "output_type": "stream",
     "text": [
      "This is Child's c1\n",
      "This is Child's c2\n",
      "This is Child's c3\n"
     ]
    },
    {
     "ename": "AttributeError",
     "evalue": "'Child' object has no attribute 'p1'",
     "output_type": "error",
     "traceback": [
      "\u001b[0;31m---------------------------------------------------------------------------\u001b[0m",
      "\u001b[0;31mAttributeError\u001b[0m                            Traceback (most recent call last)",
      "\u001b[0;32m<ipython-input-12-01d1e4752bbb>\u001b[0m in \u001b[0;36m<module>\u001b[0;34m\u001b[0m\n\u001b[1;32m     18\u001b[0m \u001b[0mprint\u001b[0m\u001b[0;34m(\u001b[0m\u001b[0mchild\u001b[0m\u001b[0;34m.\u001b[0m\u001b[0mc2\u001b[0m\u001b[0;34m)\u001b[0m\u001b[0;34m\u001b[0m\u001b[0;34m\u001b[0m\u001b[0m\n\u001b[1;32m     19\u001b[0m \u001b[0mprint\u001b[0m\u001b[0;34m(\u001b[0m\u001b[0mchild\u001b[0m\u001b[0;34m.\u001b[0m\u001b[0mc3\u001b[0m\u001b[0;34m)\u001b[0m\u001b[0;34m\u001b[0m\u001b[0;34m\u001b[0m\u001b[0m\n\u001b[0;32m---> 20\u001b[0;31m \u001b[0mprint\u001b[0m\u001b[0;34m(\u001b[0m\u001b[0mchild\u001b[0m\u001b[0;34m.\u001b[0m\u001b[0mp1\u001b[0m\u001b[0;34m)\u001b[0m\u001b[0;34m\u001b[0m\u001b[0;34m\u001b[0m\u001b[0m\n\u001b[0m",
      "\u001b[0;31mAttributeError\u001b[0m: 'Child' object has no attribute 'p1'"
     ]
    }
   ],
   "source": [
    "class Parent:\n",
    "    def __init__(self,p1,p2):\n",
    "        ''' super()를 사용하지 않으면 상속됐을 때 이것으로 overriding됨'''\n",
    "        self.p1 = p1\n",
    "        self.p2 = p2\n",
    "        \n",
    "class Child(Parent): ##Parent 클래스 상속\n",
    "    def __init__(self, c1, **kwargs): ## 부모 메소드 overriding 당함\n",
    "        self.c1 = c1\n",
    "        self.c2 = \"This is Child's c2\"\n",
    "        self.c3 = \"This is Child's c3\"\n",
    "        \n",
    "child = Child(p1= \"This is Parent's p1\",\n",
    "             p2= \"This is Parent's p2\",\n",
    "             c1= \"This is Child's c1\")\n",
    "\n",
    "print(child.c1)\n",
    "print(child.c2)\n",
    "print(child.c3)\n",
    "print(child.p1)"
   ]
  },
  {
   "cell_type": "markdown",
   "metadata": {},
   "source": [
    "#### 위는 super()를 안해서 오류가 난 코드"
   ]
  },
  {
   "cell_type": "code",
   "execution_count": null,
   "metadata": {},
   "outputs": [],
   "source": []
  }
 ],
 "metadata": {
  "kernelspec": {
   "display_name": "Python 3",
   "language": "python",
   "name": "python3"
  },
  "language_info": {
   "codemirror_mode": {
    "name": "ipython",
    "version": 3
   },
   "file_extension": ".py",
   "mimetype": "text/x-python",
   "name": "python",
   "nbconvert_exporter": "python",
   "pygments_lexer": "ipython3",
   "version": "3.7.6"
  }
 },
 "nbformat": 4,
 "nbformat_minor": 4
}
